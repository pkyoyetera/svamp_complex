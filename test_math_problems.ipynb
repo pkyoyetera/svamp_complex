{
 "cells": [
  {
   "cell_type": "code",
   "execution_count": 2,
   "id": "af544b5d-21d6-41b9-a6e5-c77e6d7827c0",
   "metadata": {
    "ExecuteTime": {
     "end_time": "2023-09-15T14:21:11.875478336Z",
     "start_time": "2023-09-15T14:21:11.709086838Z"
    }
   },
   "outputs": [
    {
     "data": {
      "text/plain": "'3.10.12'"
     },
     "execution_count": 2,
     "metadata": {},
     "output_type": "execute_result"
    }
   ],
   "source": [
    "from platform import python_version\n",
    "\n",
    "python_version()"
   ]
  },
  {
   "cell_type": "code",
   "execution_count": 3,
   "id": "dc8f9533-766f-4f5f-8935-88c1f3c71f69",
   "metadata": {
    "ExecuteTime": {
     "end_time": "2023-09-15T14:21:13.255396190Z",
     "start_time": "2023-09-15T14:21:13.088781982Z"
    }
   },
   "outputs": [],
   "source": [
    "from typing import List"
   ]
  },
  {
   "cell_type": "code",
   "execution_count": 4,
   "id": "ef8f18ec-a7e6-4d54-8477-3df76ef1365c",
   "metadata": {
    "ExecuteTime": {
     "end_time": "2023-09-15T14:21:13.624763271Z",
     "start_time": "2023-09-15T14:21:13.503431943Z"
    }
   },
   "outputs": [],
   "source": [
    "import json "
   ]
  },
  {
   "cell_type": "code",
   "execution_count": 5,
   "id": "5d797316-c50d-421c-abfa-38f3e2835bda",
   "metadata": {
    "ExecuteTime": {
     "end_time": "2023-09-15T14:21:14.310273126Z",
     "start_time": "2023-09-15T14:21:13.908944757Z"
    }
   },
   "outputs": [],
   "source": [
    "import pandas as pd"
   ]
  },
  {
   "cell_type": "code",
   "execution_count": 6,
   "id": "b5b44bfe-e72b-43c3-a656-2d1e0f1309a4",
   "metadata": {
    "ExecuteTime": {
     "end_time": "2023-09-06T13:52:10.762840447Z",
     "start_time": "2023-09-06T13:52:10.544917433Z"
    }
   },
   "outputs": [],
   "source": [
    "with open(\"GSM-IC/GSM-IC_mstep.json\", \"r\") as f:\n",
    "    gsm_data = json.load(f)\n",
    "    "
   ]
  },
  {
   "cell_type": "code",
   "execution_count": 7,
   "id": "9a23c4fa-3393-413d-ae4a-93d53906717d",
   "metadata": {
    "ExecuteTime": {
     "end_time": "2023-09-06T13:52:10.764594642Z",
     "start_time": "2023-09-06T13:52:10.736783139Z"
    }
   },
   "outputs": [
    {
     "data": {
      "text/plain": "{'original_question': 'Ajax is 80 kilograms. He is planning to lose some weight. Exercising for an hour will help him lose 1.5 pounds. If 1 kilogram is equal to 2.2 pounds How many pounds will he weigh if he exercises for 2 hours every day for two weeks?',\n 'answer': '134',\n 'new_question': \"Ajax is 80 kilograms. He is planning to lose some weight. Exercising for an hour will help him lose 1.5 pounds. Ajax's brother has read 2000 books in the past year. If 1 kilogram is equal to 2.2 pounds How many pounds will Ajax weigh if he exercises for 2 hours every day for two weeks?\",\n 'n_steps': 5,\n 'role': \"Ajax's brother\",\n 'number': '2000',\n 'sentence_template': '{role} has read {number} books in the past year.',\n 'role_label': 'overlapped',\n 'number_label': 'out_range',\n 'sentence_label': 'out_topic'}"
     },
     "execution_count": 7,
     "metadata": {},
     "output_type": "execute_result"
    }
   ],
   "source": [
    "gsm_data[10]"
   ]
  },
  {
   "cell_type": "code",
   "execution_count": null,
   "id": "fa163f27-2597-4964-a42d-b7591b41394f",
   "metadata": {},
   "outputs": [],
   "source": [
    "\n"
   ]
  },
  {
   "cell_type": "code",
   "execution_count": 6,
   "id": "4186686a-c3af-45ad-b802-2980e6f00311",
   "metadata": {},
   "outputs": [],
   "source": [
    "gsm_df = pd.read_json(\"GSM-IC/GSM-IC_mstep.json\")\n"
   ]
  },
  {
   "cell_type": "code",
   "execution_count": 7,
   "id": "b109de13-84e4-4766-aac8-74abeaada9e4",
   "metadata": {},
   "outputs": [
    {
     "data": {
      "text/plain": [
       "array([\"Officer Hopps has to give out 200 tickets in May. The first 15 days he averages 8 tickets a day. Officer Hopps' mother bought 200 bus tickets in Feburary. How many does he have to average each day for the rest of the month to reach his required goal?\",\n",
       "       \"Grover bought 3 boxes of face masks. He plans to sell them for $0.50 each. The height of Grover's brother is 10 feet. If each box has 20 face masks, and Grover bought the 3 boxes for $15, how much will be his total profit?\",\n",
       "       'Sam and Jeff had a skipping competition at recess. The competition was split into four rounds. Sam completed 1 more skip than Jeff in the first round. Jeff skipped 3 fewer times than Sam in the second round. Jeff skipped 4 more times than Sam in the third round. Jeff got tired and only completed half the number of skips as Sam in the last round. Ada ran 100 kilometers more than Jeff. If Sam skipped 16 times in each round, what is the average number of skips per round completed by Jeff?',\n",
       "       'Kylie makes 10 beaded necklaces on Monday and 2 beaded necklaces on Tuesday. Then Kylie makes 5 beaded bracelets and 7 beaded earrings on Wednesday. 20 beads are needed to make one beaded necklace. 10 beads are needed to make one beaded bracelet. 5 beads are needed to make one beaded earring. Emma bought 35 tomatoes from the grocery store. How many beads does Kylie use in total to make her jewelry?',\n",
       "       \"Every bedtime, Juwella reads a book. Three nights ago, she read 15 pages. Two nights ago she read twice that many pages, while last night she read 5 pages more than the previous night. She promised to read the remaining pages of the book tonight. Juwella's neighbor bought 10000 books for Juwella. If the book has 100 pages, how many pages will she read tonight?\"],\n",
       "      dtype=object)"
      ]
     },
     "execution_count": 7,
     "metadata": {},
     "output_type": "execute_result"
    }
   ],
   "source": [
    "gsm_df.head()[\"new_question\"].values\n",
    "\n"
   ]
  },
  {
   "cell_type": "code",
   "execution_count": 8,
   "id": "c73f331e-e78b-4a5e-9484-737f68e5f963",
   "metadata": {},
   "outputs": [
    {
     "data": {
      "text/plain": [
       "'There are a dog and a squirrel in the park. There also was a couple of horses. During their walk through the park Jane bought 4 strawberry \\nice cream balls, while Jack bought a pistachio one and couple of orange sorbets. Then they ran into half a dozen squirrels running through. \\nHow many total legs were in the park?'"
      ]
     },
     "execution_count": 8,
     "metadata": {},
     "output_type": "execute_result"
    }
   ],
   "source": [
    "\"\"\"There are a dog and a squirrel in the park. There also was a couple of horses. During their walk through the park Jane bought 4 strawberry \n",
    "ice cream balls, while Jack bought a pistachio one and couple of orange sorbets. Then they ran into half a dozen squirrels running through. \n",
    "How many total legs were in the park?\"\"\""
   ]
  },
  {
   "cell_type": "code",
   "execution_count": 9,
   "id": "cc451de2-7ae6-4341-9570-bff025a6769d",
   "metadata": {},
   "outputs": [
    {
     "data": {
      "text/plain": [
       "'Every bedtime, Juwella reads a book from her nightstand. \\nThree nights ago, she read 15 pages while lying in bed. \\nTwo nights ago at her desk, she read twice that many pages. Last night while seated in an armchair she read 5 pages more than the previous night. \\nShe promised to read the remaining pages of the book tonight. \\n\\nIf the book has 100 pages, how many pages did she read while seated?'"
      ]
     },
     "execution_count": 9,
     "metadata": {},
     "output_type": "execute_result"
    }
   ],
   "source": [
    "\"\"\"Every bedtime, Juwella reads a book from her nightstand. \n",
    "Three nights ago, she read 15 pages while lying in bed. \n",
    "Two nights ago at her desk, she read twice that many pages. Last night while seated in an armchair she read 5 pages more than the previous night. \n",
    "She promised to read the remaining pages of the book tonight. \n",
    "\n",
    "If the book has 100 pages, how many pages did she read while seated?\"\"\""
   ]
  },
  {
   "cell_type": "code",
   "execution_count": null,
   "id": "42280551-3e1a-44ca-9f47-d6c5cb982fd5",
   "metadata": {},
   "outputs": [],
   "source": []
  },
  {
   "cell_type": "code",
   "execution_count": null,
   "id": "12256b68-06a9-496d-8334-f8c7b3d085e9",
   "metadata": {},
   "outputs": [],
   "source": []
  },
  {
   "cell_type": "code",
   "execution_count": 17,
   "id": "fd54b25f-ff6e-410c-a5a2-15c2e54d9905",
   "metadata": {},
   "outputs": [
    {
     "data": {
      "text/plain": [
       "'\\nAjax weighs 80 kilograms and 170cm tall.\\nHe is planning to lose some weight. \\nRunning for an hour a day will help him lose 1.5 pounds and walking for an hour a day will help him lose 0.8 pounds.\\nIf 1 kilogram is equal to 2.2 pounds, how many pounds will he weigh if he walks for 1 hour and runs for 30 minutes every day for two weeks?\\n'"
      ]
     },
     "execution_count": 17,
     "metadata": {},
     "output_type": "execute_result"
    }
   ],
   "source": [
    "# gsm_df.head()[\"original_question\"][10]\n",
    "\n",
    "gsm_df[\"original_question\"][10]\n",
    "\n",
    "\"\"\"\n",
    "Ajax weighs 80 kilograms and 170cm tall.\n",
    "He is planning to lose some weight. \n",
    "Running for an hour a day will help him lose 1.5 pounds and walking for an hour a day will help him lose 0.8 pounds.\n",
    "If 1 kilogram is equal to 2.2 pounds, how many pounds will he weigh if he walks for 1 hour and runs for 30 minutes every day for two weeks?\n",
    "\"\"\""
   ]
  },
  {
   "cell_type": "code",
   "execution_count": null,
   "id": "09397ce8-f4be-455a-820f-825936099f6b",
   "metadata": {},
   "outputs": [],
   "source": []
  },
  {
   "cell_type": "code",
   "execution_count": 19,
   "id": "e2a5b346-cedd-4b1d-83e1-b067c537fd3b",
   "metadata": {},
   "outputs": [
    {
     "data": {
      "text/plain": [
       "\"Mr. Lu owns a computer store. For last month, half of their sales are laptops, one-third are netbooks, and the rest are desktop computers. If Mr. Lu's store was able to sell a total of 72 computers, how many of them are desktop computers?\""
      ]
     },
     "execution_count": 19,
     "metadata": {},
     "output_type": "execute_result"
    }
   ],
   "source": [
    "gsm_df[\"original_question\"][11]\n"
   ]
  },
  {
   "cell_type": "code",
   "execution_count": null,
   "id": "b3b3c803-1834-4267-b316-7b421115a534",
   "metadata": {},
   "outputs": [],
   "source": []
  },
  {
   "cell_type": "code",
   "execution_count": 22,
   "id": "c867e674-7443-458b-925c-7e4aebb6c0d0",
   "metadata": {},
   "outputs": [],
   "source": [
    "gsm_df[[\"original_question\"]].to_csv(\"GSM_questions_only.csv\", index=False)"
   ]
  },
  {
   "cell_type": "code",
   "execution_count": null,
   "id": "51a57d3c-b5cc-492c-b434-0e409bd32a4b",
   "metadata": {},
   "outputs": [],
   "source": []
  },
  {
   "cell_type": "code",
   "execution_count": null,
   "id": "d7ac7661-92f1-4da7-84cd-e1b6fdc0d993",
   "metadata": {},
   "outputs": [],
   "source": []
  },
  {
   "cell_type": "code",
   "execution_count": null,
   "id": "a0079e03-6f42-418d-8cf5-35e5987e91e1",
   "metadata": {},
   "outputs": [],
   "source": []
  },
  {
   "cell_type": "markdown",
   "id": "062b0a7b-0c69-472c-a9bb-f73718e5465d",
   "metadata": {
    "tags": []
   },
   "source": [
    "## GPT-3 examples with new questions "
   ]
  },
  {
   "cell_type": "code",
   "execution_count": null,
   "id": "9ca8c304-44c1-4b33-b8f9-0e207a49be34",
   "metadata": {},
   "outputs": [],
   "source": []
  },
  {
   "cell_type": "code",
   "execution_count": 6,
   "id": "4bad2cea-04ee-4ca4-bd2e-2fddf36e4902",
   "metadata": {
    "ExecuteTime": {
     "end_time": "2023-09-15T00:31:33.705836051Z",
     "start_time": "2023-09-15T00:31:33.640710060Z"
    }
   },
   "outputs": [],
   "source": [
    "with open(\"/home/patrick/Documents/MSc/Spring23/research/secret/openai_api_key.txt\", \"r\") as f:\n",
    "    openai_key = f.readline()\n",
    "    \n",
    "assert openai_key is not None"
   ]
  },
  {
   "cell_type": "code",
   "execution_count": 6,
   "id": "c417471a-a0e1-4556-ba71-300443b9a0fc",
   "metadata": {
    "ExecuteTime": {
     "end_time": "2023-09-15T00:31:35.390288924Z",
     "start_time": "2023-09-15T00:31:35.339448830Z"
    }
   },
   "outputs": [],
   "source": []
  },
  {
   "cell_type": "code",
   "execution_count": 7,
   "id": "b6055a56-809f-4470-b1f8-606db6d45dc5",
   "metadata": {
    "ExecuteTime": {
     "end_time": "2023-09-15T00:31:35.770169943Z",
     "start_time": "2023-09-15T00:31:35.693908601Z"
    }
   },
   "outputs": [],
   "source": [
    "import openai\n",
    "\n",
    "openai.api_key = openai_key.strip()"
   ]
  },
  {
   "cell_type": "code",
   "execution_count": 8,
   "id": "659c1654-1a0e-452b-bc00-a3e3d7fa1afc",
   "metadata": {
    "ExecuteTime": {
     "end_time": "2023-09-15T00:31:38.187603808Z",
     "start_time": "2023-09-15T00:31:37.665760759Z"
    }
   },
   "outputs": [],
   "source": [
    "# test \n",
    "models = openai.Model.list()"
   ]
  },
  {
   "cell_type": "code",
   "execution_count": 11,
   "id": "e197b3ba-405c-4335-acfc-6d92e4b4ee5d",
   "metadata": {
    "ExecuteTime": {
     "end_time": "2023-09-06T14:16:37.180511683Z",
     "start_time": "2023-09-06T14:16:37.144842796Z"
    }
   },
   "outputs": [],
   "source": []
  },
  {
   "cell_type": "code",
   "execution_count": 9,
   "id": "d345e090-7ba2-40b8-9a7d-ef14b561c01f",
   "metadata": {
    "ExecuteTime": {
     "end_time": "2023-09-07T18:24:27.833016897Z",
     "start_time": "2023-09-07T18:24:27.797776918Z"
    }
   },
   "outputs": [],
   "source": [
    "# model choice\n",
    "\n",
    "MODEL = \"gpt-3.5-turbo\""
   ]
  },
  {
   "cell_type": "code",
   "execution_count": 13,
   "id": "a418b971-56b2-4951-80bd-25bd9168cd7e",
   "metadata": {
    "ExecuteTime": {
     "end_time": "2023-09-06T14:16:38.882337800Z",
     "start_time": "2023-09-06T14:16:38.847166295Z"
    }
   },
   "outputs": [],
   "source": [
    "sample_question = \"\"\"\n",
    "On a sunny day at Hampton beach there are 300 males and 280 female visitors on average, while there are 16 \n",
    "lifeguards and 20 copters patrolling the area. How many people are there on the sunny beach?\n",
    "\"\"\""
   ]
  },
  {
   "cell_type": "code",
   "execution_count": 14,
   "id": "db69693c-626b-4581-b6b3-90931e6c93fa",
   "metadata": {
    "ExecuteTime": {
     "end_time": "2023-09-06T14:16:50.293445444Z",
     "start_time": "2023-09-06T14:16:39.267140473Z"
    }
   },
   "outputs": [
    {
     "data": {
      "text/plain": "<OpenAIObject chat.completion id=chatcmpl-7vncdGzBQWEyNBAvT5DkWNhUPTzBk at 0x7f501618b470> JSON: {\n  \"choices\": [\n    {\n      \"finish_reason\": \"stop\",\n      \"index\": 0,\n      \"message\": {\n        \"content\": \"To find the total number of people on the beach, we need to add the number of males, females, lifeguards, and copters.\\n\\nNumber of males = 300\\nNumber of females = 280\\nNumber of lifeguards = 16\\nNumber of copters = 20\\n\\nTotal number of people = Number of males + Number of females + Number of lifeguards + Number of copters\\nTotal number of people = 300 + 280 + 16 + 20\\nTotal number of people = 600 + 36\\nTotal number of people = 636\\n\\nTherefore, there are 636 people on the sunny beach.\",\n        \"role\": \"assistant\"\n      }\n    }\n  ],\n  \"created\": 1694009799,\n  \"id\": \"chatcmpl-7vncdGzBQWEyNBAvT5DkWNhUPTzBk\",\n  \"model\": \"gpt-3.5-turbo-0613\",\n  \"object\": \"chat.completion\",\n  \"usage\": {\n    \"completion_tokens\": 136,\n    \"prompt_tokens\": 59,\n    \"total_tokens\": 195\n  }\n}"
     },
     "execution_count": 14,
     "metadata": {},
     "output_type": "execute_result"
    }
   ],
   "source": [
    "response = openai.ChatCompletion.create(\n",
    "    model=MODEL,\n",
    "    messages=[\n",
    "        # {\"role\": \"user\", \"content\": \"Be concise\"},\n",
    "        # {\"role\": \"user\", \"content\": \"Solve the following problem\"},\n",
    "        {\"role\": \"user\", \"content\": sample_question},  # 'user' vs 'assistant'\n",
    "    ],\n",
    "    temperature=0.0,\n",
    ")\n",
    "response"
   ]
  },
  {
   "cell_type": "code",
   "execution_count": 15,
   "id": "3aa566f5-63a5-494a-af5d-f59cbc37d946",
   "metadata": {
    "ExecuteTime": {
     "end_time": "2023-09-06T14:16:50.377856134Z",
     "start_time": "2023-09-06T14:16:50.297847346Z"
    }
   },
   "outputs": [
    {
     "data": {
      "text/plain": "['To find the total number of people on the beach, we need to add the number of males, females, lifeguards, and copters.',\n 'Number of males = 300\\nNumber of females = 280\\nNumber of lifeguards = 16\\nNumber of copters = 20',\n 'Total number of people = Number of males + Number of females + Number of lifeguards + Number of copters\\nTotal number of people = 300 + 280 + 16 + 20\\nTotal number of people = 600 + 36\\nTotal number of people = 636',\n 'Therefore, there are 636 people on the sunny beach.']"
     },
     "execution_count": 15,
     "metadata": {},
     "output_type": "execute_result"
    }
   ],
   "source": [
    "answer = response.choices[0][\"message\"][\"content\"]\n",
    "answer.split('\\n\\n')"
   ]
  },
  {
   "cell_type": "code",
   "execution_count": 15,
   "id": "02a75966-7c65-4da5-8d53-745ddbbb40e7",
   "metadata": {
    "ExecuteTime": {
     "end_time": "2023-09-06T14:16:50.400959669Z",
     "start_time": "2023-09-06T14:16:50.342783512Z"
    }
   },
   "outputs": [],
   "source": []
  },
  {
   "cell_type": "code",
   "execution_count": 15,
   "id": "6135df23-3373-4ad5-8165-864ca2a98aba",
   "metadata": {
    "ExecuteTime": {
     "end_time": "2023-09-06T14:16:50.401360307Z",
     "start_time": "2023-09-06T14:16:50.343534767Z"
    }
   },
   "outputs": [],
   "source": []
  },
  {
   "cell_type": "code",
   "execution_count": 15,
   "id": "6773d1da-cae1-41b1-af8c-1626d8f501cf",
   "metadata": {
    "ExecuteTime": {
     "end_time": "2023-09-06T14:16:50.401620140Z",
     "start_time": "2023-09-06T14:16:50.343789928Z"
    }
   },
   "outputs": [],
   "source": []
  },
  {
   "cell_type": "markdown",
   "id": "58899db5-9289-47d4-b227-833469ead46c",
   "metadata": {},
   "source": [
    "## How about another model with the completions API\n"
   ]
  },
  {
   "cell_type": "code",
   "execution_count": 16,
   "id": "94244bc8-6b26-44f5-8f9d-ad7b229c1505",
   "metadata": {
    "ExecuteTime": {
     "end_time": "2023-09-06T14:16:57.989525694Z",
     "start_time": "2023-09-06T14:16:57.117093266Z"
    }
   },
   "outputs": [
    {
     "data": {
      "text/plain": "<OpenAIObject text_completion id=cmpl-7vncvDlG4wkom2nh4H3qGrNw2h4gY at 0x7f503996fba0> JSON: {\n  \"choices\": [\n    {\n      \"finish_reason\": \"stop\",\n      \"index\": 0,\n      \"logprobs\": null,\n      \"text\": \"\\nThere are 580 people on the sunny beach.\"\n    }\n  ],\n  \"created\": 1694009817,\n  \"id\": \"cmpl-7vncvDlG4wkom2nh4H3qGrNw2h4gY\",\n  \"model\": \"text-davinci-003\",\n  \"object\": \"text_completion\",\n  \"usage\": {\n    \"completion_tokens\": 10,\n    \"prompt_tokens\": 46,\n    \"total_tokens\": 56\n  },\n  \"warning\": \"This model version is deprecated. Migrate before January 4, 2024 to avoid disruption of service. Learn more https://platform.openai.com/docs/deprecations\"\n}"
     },
     "execution_count": 16,
     "metadata": {},
     "output_type": "execute_result"
    }
   ],
   "source": [
    "response = openai.Completion.create(\n",
    "    model=\"text-davinci-003\",\n",
    "    prompt=sample_question\n",
    ")\n",
    "\n",
    "response"
   ]
  },
  {
   "cell_type": "code",
   "execution_count": null,
   "id": "e023b0c0-bbea-4ed8-ab50-0b3508e6a5f4",
   "metadata": {},
   "outputs": [],
   "source": []
  },
  {
   "cell_type": "code",
   "execution_count": 29,
   "id": "b2e32d3c-4622-4044-a2cb-ad7290dd7679",
   "metadata": {
    "ExecuteTime": {
     "end_time": "2023-09-12T16:04:20.031423454Z",
     "start_time": "2023-09-12T16:04:19.919947237Z"
    }
   },
   "outputs": [],
   "source": [
    "import logging \n",
    "\n",
    "logging.basicConfig(level=logging.INFO)\n",
    "logger = logging.getLogger(__name__)"
   ]
  },
  {
   "cell_type": "markdown",
   "id": "e22ccbda-cd21-4b68-872f-ea324ec203f1",
   "metadata": {},
   "source": [
    "## Test our sample questions"
   ]
  },
  {
   "cell_type": "code",
   "execution_count": 9,
   "id": "99c009b5-0ac2-49ee-8268-01e98d38857e",
   "metadata": {
    "ExecuteTime": {
     "end_time": "2023-09-15T00:31:46.392614397Z",
     "start_time": "2023-09-15T00:31:46.188020750Z"
    }
   },
   "outputs": [
    {
     "data": {
      "text/plain": "[{'question': 'How many manufacturers collaborated on this project?',\n  'answer': '3',\n  'acceptable_answers': ['three',\n   '3.0',\n   'three manufacturers',\n   'Tesla, Volkswagen, and Bosch']},\n {'question': 'How many corporations collaborated on this project?',\n  'answer': '3',\n  'acceptable_answers': ['three', '3.0', 'three corporations']},\n {'question': 'How many labels cooperated on this project?',\n  'answer': '3',\n  'acceptable_answers': ['three', '3.0', 'three labels']},\n {'question': 'How many countries collaborated on this project?',\n  'answer': '2',\n  'acceptable_answers': ['two', '2.0', 'two labels']},\n {'question': 'How many different items do they produce?',\n  'answer': '4',\n  'acceptable_answers': ['4.0', 'four', 'four items']},\n {'question': 'What is the target school grade range for the children visiting factory?',\n  'answer': '7-12',\n  'acceptable_answers': ['seven to twelve',\n   'grade 7 to grade 12',\n   'seven through twelve',\n   '7 through 12',\n   '7 to 12']},\n {'question': 'What is the target age range for the children visiting factory?',\n  'answer': '12-18',\n  'acceptable_answers': ['twelve to eighteen',\n   'twelve through eighteen',\n   'twelve up to eighteen']},\n {'question': 'Which companies produce the Tesla coils in question?',\n  'answer': 'Tesla, Volkswagen and Bosch',\n  'acceptable_answers': ['tesla, volkswagen, bosch',\n   'volkswagen, tesla, bosch']}]"
     },
     "execution_count": 9,
     "metadata": {},
     "output_type": "execute_result"
    }
   ],
   "source": [
    "# samples = pd.read_json(path_or_buf=\"complex/samples.json\", lines=False)\n",
    "\n",
    "with open(\"complex/samples.json\", \"r\") as f:\n",
    "    samples = json.load(f)\n",
    "\n",
    "samples[0][\"questions\"]"
   ]
  },
  {
   "cell_type": "code",
   "execution_count": 10,
   "id": "ece590eb-8250-4173-b63f-595da94c6b26",
   "metadata": {
    "ExecuteTime": {
     "end_time": "2023-09-07T18:24:38.990886587Z",
     "start_time": "2023-09-07T18:24:38.962543665Z"
    }
   },
   "outputs": [],
   "source": []
  },
  {
   "cell_type": "code",
   "execution_count": 11,
   "id": "2ed531cb-2441-4725-b08c-ca525704b880",
   "metadata": {
    "ExecuteTime": {
     "end_time": "2023-09-07T18:24:39.495066983Z",
     "start_time": "2023-09-07T18:24:39.468076321Z"
    }
   },
   "outputs": [
    {
     "data": {
      "text/plain": "'Tesla, Volkswagen and Bosch opened a small educative factory for high schoolers and middle schoolers (starting grade 7). This factory produces tesla coils, luminiscent bracelets, dynamo machines and Sterling engines.'"
     },
     "execution_count": 11,
     "metadata": {},
     "output_type": "execute_result"
    }
   ],
   "source": [
    "sample_body = samples[0][\"body\"]\n",
    "sample_body"
   ]
  },
  {
   "cell_type": "code",
   "execution_count": 11,
   "id": "1628473d-6cdb-4165-9d93-85b66829f7e3",
   "metadata": {
    "ExecuteTime": {
     "end_time": "2023-09-07T18:24:39.957439154Z",
     "start_time": "2023-09-07T18:24:39.899648772Z"
    }
   },
   "outputs": [],
   "source": []
  },
  {
   "cell_type": "code",
   "execution_count": 11,
   "id": "55454707-c630-4d1d-949e-2fb3b20b35ec",
   "metadata": {
    "ExecuteTime": {
     "end_time": "2023-09-07T18:24:40.437609011Z",
     "start_time": "2023-09-07T18:24:40.368431203Z"
    }
   },
   "outputs": [],
   "source": []
  },
  {
   "cell_type": "markdown",
   "id": "f8621c7a-6311-471c-95e8-aa692e39a298",
   "metadata": {},
   "source": [
    "## Test with the completion and chat APIs\n",
    "### i) OpenAI"
   ]
  },
  {
   "cell_type": "code",
   "execution_count": 5,
   "id": "2c4f005e-5528-46bd-8328-c64c025d2573",
   "metadata": {
    "ExecuteTime": {
     "end_time": "2023-09-15T00:31:29.033227315Z",
     "start_time": "2023-09-15T00:31:28.338645015Z"
    }
   },
   "outputs": [],
   "source": [
    "# rely on prompt-lib for api wrappers\n",
    "from prompt_lib.backends import openai_api\n"
   ]
  },
  {
   "cell_type": "code",
   "execution_count": 10,
   "id": "aa35aab5-e20b-4a10-90c3-87f9ad3fdc62",
   "metadata": {
    "ExecuteTime": {
     "end_time": "2023-09-15T00:31:52.532366759Z",
     "start_time": "2023-09-15T00:31:52.395833213Z"
    }
   },
   "outputs": [],
   "source": [
    "MAX_TOKENS = 350\n",
    "ENGINE = \"text-davinci-003\"\n",
    "ENGINE = \"gpt-3.5-turbo-0613\"\n",
    "NUM_COMPLETIONS = 1\n"
   ]
  },
  {
   "cell_type": "code",
   "execution_count": 12,
   "id": "be4e3fec-ba3a-4e99-90a4-ab1c36416071",
   "metadata": {
    "ExecuteTime": {
     "end_time": "2023-09-07T18:24:46.696485372Z",
     "start_time": "2023-09-07T18:24:46.667210991Z"
    }
   },
   "outputs": [],
   "source": []
  },
  {
   "cell_type": "code",
   "execution_count": 80,
   "id": "ecbe43e2-323f-48c8-aa99-acdec259eb34",
   "metadata": {
    "ExecuteTime": {
     "end_time": "2023-09-12T16:36:45.042934011Z",
     "start_time": "2023-09-12T16:36:45.013353997Z"
    }
   },
   "outputs": [
    {
     "name": "stdout",
     "output_type": "stream",
     "text": [
      "Question: Tesla, Volkswagen and Bosch opened a small educative factory for high schoolers and middle schoolers (starting grade 7). This factory produces tesla coils, luminiscent bracelets, dynamo machines and Sterling engines.\n",
      "How many manufacturers collaborated on this project?\n",
      "\n",
      "\n",
      "Expected answer: 3\n"
     ]
    }
   ],
   "source": [
    "sample_prompt = samples[0][\"body\"] + \"\\n\" + samples[0][\"questions\"][0][\"question\"]\n",
    "right_answer = samples[0][\"questions\"][0][\"answer\"]\n",
    "\n",
    "print(f\"Question: {sample_prompt}\")\n",
    "print(\"\\n\")\n",
    "print(f\"Expected answer: {right_answer}\")"
   ]
  },
  {
   "cell_type": "code",
   "execution_count": 105,
   "id": "1d8421af-addd-436d-a356-6bc7caa6c6a5",
   "metadata": {
    "tags": [],
    "ExecuteTime": {
     "end_time": "2023-09-12T17:01:22.757951267Z",
     "start_time": "2023-09-12T17:01:22.727202207Z"
    }
   },
   "outputs": [],
   "source": []
  },
  {
   "cell_type": "code",
   "execution_count": 105,
   "id": "34ef0791-d526-471c-a06a-c1fbaa36c3b4",
   "metadata": {
    "ExecuteTime": {
     "end_time": "2023-09-12T17:01:33.036976845Z",
     "start_time": "2023-09-12T17:01:32.970378034Z"
    }
   },
   "outputs": [],
   "source": []
  },
  {
   "cell_type": "markdown",
   "source": [
    "### Attempt to use ChatGPT to check correctness of answers "
   ],
   "metadata": {
    "collapsed": false
   },
   "id": "f7c5c773bd58f751"
  },
  {
   "cell_type": "code",
   "execution_count": 105,
   "outputs": [],
   "source": [],
   "metadata": {
    "collapsed": false,
    "ExecuteTime": {
     "end_time": "2023-09-12T17:01:16.212740658Z",
     "start_time": "2023-09-12T17:01:16.167582271Z"
    }
   },
   "id": "8ba1e4a0a144c25e"
  },
  {
   "cell_type": "code",
   "execution_count": 24,
   "outputs": [],
   "source": [
    "def ask_chatgpt_to_compare(question: str, original: str, response: str):\n",
    "    command = f\"In the context of this question, do both the following answers correctly answer the question? Respond with Yes or No.\\n\\nQuestion: {question}\\n\\nAnswer 1: {original} \\n\\nAnswer 2: {response}\"\n",
    "\n",
    "    auto_check_response = openai_api.OpenaiAPIWrapper.call(\n",
    "        prompt=command,\n",
    "        max_tokens=MAX_TOKENS,\n",
    "        engine=\"gpt-3.5-turbo-0613\",  # default to this version \n",
    "        stop_token=\"\\n\\n\\n\",\n",
    "        temperature=0.0,\n",
    "        num_completions=NUM_COMPLETIONS,\n",
    "    )\n",
    "    \n",
    "    first_resp = openai_api.OpenaiAPIWrapper.get_first_response(auto_check_response)\n",
    "    return \"yes\" in first_resp.lower()\n",
    "    "
   ],
   "metadata": {
    "collapsed": false,
    "ExecuteTime": {
     "end_time": "2023-09-15T00:41:20.871106342Z",
     "start_time": "2023-09-15T00:41:20.659186960Z"
    }
   },
   "id": "a195a2765daf8991"
  },
  {
   "cell_type": "code",
   "execution_count": 24,
   "outputs": [],
   "source": [],
   "metadata": {
    "collapsed": false,
    "ExecuteTime": {
     "end_time": "2023-09-15T00:41:21.224943038Z",
     "start_time": "2023-09-15T00:41:21.093564054Z"
    }
   },
   "id": "251d7a9fa705eedc"
  },
  {
   "cell_type": "code",
   "execution_count": 25,
   "id": "24b76d3a-24eb-495d-a221-a158e4acb209",
   "metadata": {
    "ExecuteTime": {
     "end_time": "2023-09-15T00:41:21.587214281Z",
     "start_time": "2023-09-15T00:41:21.455045452Z"
    }
   },
   "outputs": [],
   "source": [
    "# compare numerical answers \n",
    "def compare_numericals(solution, model_response, tolerance: float = 1e-3):\n",
    "    if model_response is None or solution is None:\n",
    "        raise Exception(\"Nothing to compare\")\n",
    "    \n",
    "    # if the model response is a number, then we can compare it with the solution\n",
    "    try:\n",
    "        res = float(model_response.strip())\n",
    "        sol = float(solution.strip())\n",
    "        return abs(res - sol) <= tolerance\n",
    "    \n",
    "    except Exception as e:\n",
    "        # logger.exception(f\"Exception: {e}\")\n",
    "        return False"
   ]
  },
  {
   "cell_type": "code",
   "execution_count": 26,
   "outputs": [],
   "source": [
    "import spacy \n",
    "\n",
    "nlp = spacy.load(\"en_core_web_sm\")\n",
    "\n",
    "# a function to tokenize and compare tokens in two strings \n",
    "def compare_tokens(original: str, response: str) -> bool:\n",
    "    orig_doc = nlp(original)\n",
    "    orig_tokens = [t.text.strip().lower() for t in orig_doc]  # todo consider using the lemma instead\n",
    "    \n",
    "    resp_doc = nlp(response)\n",
    "    resp_tokens = [t.text.strip().lower() for t in resp_doc]  # todo consider using the lemma instead\n",
    "    \n",
    "    # compare the tokens\n",
    "    overlapping_tokens = [t for t in orig_tokens if t in resp_tokens]\n",
    "    \n",
    "    return set(overlapping_tokens) == set(orig_tokens)\n",
    "\n"
   ],
   "metadata": {
    "collapsed": false,
    "ExecuteTime": {
     "end_time": "2023-09-15T00:41:23.020699633Z",
     "start_time": "2023-09-15T00:41:21.781524429Z"
    }
   },
   "id": "42303e91d12e4bf"
  },
  {
   "cell_type": "code",
   "execution_count": 27,
   "id": "082ef53e-a6f6-4d58-9d60-3f2c6a8e167b",
   "metadata": {
    "ExecuteTime": {
     "end_time": "2023-09-15T00:41:26.352812847Z",
     "start_time": "2023-09-15T00:41:26.159549555Z"
    }
   },
   "outputs": [],
   "source": [
    "\"\"\"\n",
    "This function receives a model response and compares it, first with the ground truth \n",
    "answer, and if needed, the other acceptable answers thereafter.\n",
    "\"\"\"\n",
    "def evaluate_answers(\n",
    "    full_prompt: str,\n",
    "    model_response: str=None,\n",
    "    ground_truth: str=None,\n",
    "    acceptable_answer: List=None\n",
    ") -> bool:\n",
    "    \n",
    "    if model_response is None or ground_truth is None:\n",
    "        raise Exception(\"Nothing to compare\")\n",
    "        \n",
    "    # Answers line up exactly \n",
    "    if ground_truth.strip().lower() == model_response.strip().lower():\n",
    "        return True\n",
    "    \n",
    "    # Answers have some overlap, so we have to filter the tokens and compare\n",
    "    # the remaining tokens\n",
    "    elif compare_numericals(ground_truth, model_response) or compare_tokens(ground_truth, model_response):\n",
    "        # Might be a numerical response \n",
    "        return True\n",
    "    \n",
    "    elif ask_chatgpt_to_compare(full_prompt, ground_truth, model_response):\n",
    "        return True\n",
    "        \n",
    "    # if the filtered tokens are not empty, then we have to check if the \n",
    "    # model response is in the other acceptable answers\n",
    "    else:\n",
    "        if acceptable_answer is not None:\n",
    "            # iterate one answer at a time and check for correctness\n",
    "            for ans in acceptable_answer:\n",
    "                if compare_numericals(ans, model_response) or compare_tokens(ans, model_response):\n",
    "                    return True\n",
    "                elif ask_chatgpt_to_compare(full_prompt, ans, model_response):\n",
    "                    return True\n",
    "                # else:\n",
    "            return False\n",
    "\n",
    "    return False  \n",
    "\n",
    "    \n"
   ]
  },
  {
   "cell_type": "code",
   "execution_count": 28,
   "id": "6c33ed90-2e9b-4bcb-98df-67aba3c063be",
   "metadata": {
    "ExecuteTime": {
     "end_time": "2023-09-15T00:41:29.190475902Z",
     "start_time": "2023-09-15T00:41:29.143279290Z"
    }
   },
   "outputs": [],
   "source": [
    "# create a dataframe that we'll append each dict record to\n",
    "df = pd.DataFrame(columns=[\"question\", \"answer\", \"model_response\", \"correct?\"])\n"
   ]
  },
  {
   "cell_type": "code",
   "execution_count": 29,
   "id": "eabac9d1-8a05-4daf-8ebf-0d2e8fab999c",
   "metadata": {
    "ExecuteTime": {
     "end_time": "2023-09-15T00:45:04.306428644Z",
     "start_time": "2023-09-15T00:44:41.489413537Z"
    }
   },
   "outputs": [],
   "source": [
    "dict_record = {}\n",
    "\n",
    "for body_question_group in samples:\n",
    "    \n",
    "    body = body_question_group[\"body\"]\n",
    "    \n",
    "    for qa_pair in body_question_group[\"questions\"]:\n",
    "        question = qa_pair[\"question\"]\n",
    "        answer = qa_pair[\"answer\"]\n",
    "        \n",
    "        # form the prompt contents\n",
    "        prompt = body + \"\\n\" + question + \"\\n\\n\\n\"\n",
    "        \n",
    "        response = openai_api.OpenaiAPIWrapper.call(\n",
    "            prompt=prompt,\n",
    "            max_tokens=MAX_TOKENS,\n",
    "            engine=ENGINE,\n",
    "            stop_token=\"\\n\\n\\n\",\n",
    "            temperature=0.3,\n",
    "            num_completions=NUM_COMPLETIONS,\n",
    "        )\n",
    "\n",
    "        # compare model response with ground truth answer        \n",
    "        first_response = openai_api.OpenaiAPIWrapper.get_first_response(response)\n",
    "        \n",
    "        boolean_check = evaluate_answers(prompt, answer, first_response)\n",
    "        \n",
    "        # Update the record dict with each result\n",
    "        dict_record.update({\n",
    "            \"question\": question,\n",
    "            \"answer\": answer,\n",
    "            \"model_response\": first_response,\n",
    "            \"correct?\": boolean_check        \n",
    "        })\n",
    "        \n",
    "        # concat the record dict with the dataframe\n",
    "        df = pd.concat([df, pd.DataFrame.from_dict(dict_record, orient=\"index\").T])\n",
    "        "
   ]
  },
  {
   "cell_type": "code",
   "execution_count": 30,
   "outputs": [
    {
     "data": {
      "text/plain": "{'question': 'Which companies produce the Tesla coils in question?',\n 'answer': 'Tesla, Volkswagen and Bosch',\n 'model_response': 'The Tesla coils produced in the small educative factory for high schoolers and middle schoolers are likely produced by Tesla.',\n 'correct?': False}"
     },
     "execution_count": 30,
     "metadata": {},
     "output_type": "execute_result"
    }
   ],
   "source": [
    "dict_record"
   ],
   "metadata": {
    "collapsed": false,
    "ExecuteTime": {
     "end_time": "2023-09-15T00:45:04.441867124Z",
     "start_time": "2023-09-15T00:45:04.300848229Z"
    }
   },
   "id": "9d4869c38fedd85a"
  },
  {
   "cell_type": "code",
   "execution_count": 31,
   "id": "16097a22-b177-44ca-944d-b38a6c2bbc90",
   "metadata": {
    "ExecuteTime": {
     "end_time": "2023-09-15T00:45:08.179022205Z",
     "start_time": "2023-09-15T00:45:07.841944453Z"
    }
   },
   "outputs": [
    {
     "data": {
      "text/plain": "                                            question  \\\n0  How many manufacturers collaborated on this pr...   \n0  How many corporations collaborated on this pro...   \n0        How many labels cooperated on this project?   \n0   How many countries collaborated on this project?   \n0          How many different items do they produce?   \n0  What is the target school grade range for the ...   \n0  What is the target age range for the children ...   \n0  Which companies produce the Tesla coils in que...   \n\n                        answer  \\\n0                            3   \n0                            3   \n0                            3   \n0                            2   \n0                            4   \n0                         7-12   \n0                        12-18   \n0  Tesla, Volkswagen and Bosch   \n\n                                      model_response correct?  \n0  Based on the information provided, three manuf...     True  \n0  Three corporations collaborated on this projec...     True  \n0  Based on the information provided, three label...     True  \n0  Based on the information provided, it is not e...    False  \n0  Based on the information provided, the small e...     True  \n0  The target school grade range for the children...     True  \n0  The target age range for children visiting the...     True  \n0  The Tesla coils produced in the small educativ...    False  ",
      "text/html": "<div>\n<style scoped>\n    .dataframe tbody tr th:only-of-type {\n        vertical-align: middle;\n    }\n\n    .dataframe tbody tr th {\n        vertical-align: top;\n    }\n\n    .dataframe thead th {\n        text-align: right;\n    }\n</style>\n<table border=\"1\" class=\"dataframe\">\n  <thead>\n    <tr style=\"text-align: right;\">\n      <th></th>\n      <th>question</th>\n      <th>answer</th>\n      <th>model_response</th>\n      <th>correct?</th>\n    </tr>\n  </thead>\n  <tbody>\n    <tr>\n      <th>0</th>\n      <td>How many manufacturers collaborated on this pr...</td>\n      <td>3</td>\n      <td>Based on the information provided, three manuf...</td>\n      <td>True</td>\n    </tr>\n    <tr>\n      <th>0</th>\n      <td>How many corporations collaborated on this pro...</td>\n      <td>3</td>\n      <td>Three corporations collaborated on this projec...</td>\n      <td>True</td>\n    </tr>\n    <tr>\n      <th>0</th>\n      <td>How many labels cooperated on this project?</td>\n      <td>3</td>\n      <td>Based on the information provided, three label...</td>\n      <td>True</td>\n    </tr>\n    <tr>\n      <th>0</th>\n      <td>How many countries collaborated on this project?</td>\n      <td>2</td>\n      <td>Based on the information provided, it is not e...</td>\n      <td>False</td>\n    </tr>\n    <tr>\n      <th>0</th>\n      <td>How many different items do they produce?</td>\n      <td>4</td>\n      <td>Based on the information provided, the small e...</td>\n      <td>True</td>\n    </tr>\n    <tr>\n      <th>0</th>\n      <td>What is the target school grade range for the ...</td>\n      <td>7-12</td>\n      <td>The target school grade range for the children...</td>\n      <td>True</td>\n    </tr>\n    <tr>\n      <th>0</th>\n      <td>What is the target age range for the children ...</td>\n      <td>12-18</td>\n      <td>The target age range for children visiting the...</td>\n      <td>True</td>\n    </tr>\n    <tr>\n      <th>0</th>\n      <td>Which companies produce the Tesla coils in que...</td>\n      <td>Tesla, Volkswagen and Bosch</td>\n      <td>The Tesla coils produced in the small educativ...</td>\n      <td>False</td>\n    </tr>\n  </tbody>\n</table>\n</div>"
     },
     "execution_count": 31,
     "metadata": {},
     "output_type": "execute_result"
    }
   ],
   "source": [
    "df "
   ]
  },
  {
   "cell_type": "code",
   "execution_count": 110,
   "id": "c0118998-db70-486f-9bbb-2f621f34f2f5",
   "metadata": {
    "ExecuteTime": {
     "end_time": "2023-09-12T17:03:33.100472916Z",
     "start_time": "2023-09-12T17:03:33.021343006Z"
    }
   },
   "outputs": [],
   "source": []
  },
  {
   "cell_type": "code",
   "execution_count": 110,
   "outputs": [],
   "source": [],
   "metadata": {
    "collapsed": false,
    "ExecuteTime": {
     "end_time": "2023-09-12T17:03:41.107788407Z",
     "start_time": "2023-09-12T17:03:41.071841401Z"
    }
   },
   "id": "9498c2bfc13a48ad"
  },
  {
   "cell_type": "code",
   "execution_count": 111,
   "outputs": [
    {
     "data": {
      "text/plain": "'Tesla, Volkswagen and Bosch opened a small educative factory for high schoolers and middle schoolers (starting grade 7). This factory produces tesla coils, luminiscent bracelets, dynamo machines and Sterling engines.\\nHow many manufacturers collaborated on this project?'"
     },
     "execution_count": 111,
     "metadata": {},
     "output_type": "execute_result"
    }
   ],
   "source": [
    "sample_prompt\n"
   ],
   "metadata": {
    "collapsed": false,
    "ExecuteTime": {
     "end_time": "2023-09-12T18:32:35.966213698Z",
     "start_time": "2023-09-12T18:32:35.898305447Z"
    }
   },
   "id": "b7ef1dcd0a4c95d3"
  },
  {
   "cell_type": "markdown",
   "source": [
    "### ii) BARD/PaLM"
   ],
   "metadata": {
    "collapsed": false
   },
   "id": "c744547c7914d7b2"
  },
  {
   "cell_type": "code",
   "execution_count": 112,
   "outputs": [],
   "source": [],
   "metadata": {
    "collapsed": false,
    "ExecuteTime": {
     "end_time": "2023-09-12T18:34:15.348864169Z",
     "start_time": "2023-09-12T18:34:15.087021196Z"
    }
   },
   "id": "a4be325e5223af24"
  },
  {
   "cell_type": "code",
   "execution_count": 14,
   "outputs": [],
   "source": [
    "with open(\"/home/patrick/Documents/MSc/Spring23/research/secret/makesuite_api_key.txt\", \"r\") as f:\n",
    "    makersuite_key = f.readline()\n",
    "    \n",
    "assert makersuite_key is not None"
   ],
   "metadata": {
    "collapsed": false,
    "ExecuteTime": {
     "end_time": "2023-09-15T00:38:16.185120774Z",
     "start_time": "2023-09-15T00:38:15.946133457Z"
    }
   },
   "id": "4897559fdbe0a21b"
  },
  {
   "cell_type": "code",
   "execution_count": 15,
   "outputs": [],
   "source": [
    "import google.generativeai as palm \n",
    "\n",
    "palm.configure(api_key=makersuite_key.strip())\n"
   ],
   "metadata": {
    "collapsed": false,
    "ExecuteTime": {
     "end_time": "2023-09-15T00:38:17.443761903Z",
     "start_time": "2023-09-15T00:38:17.132728074Z"
    }
   },
   "id": "b44ad22c45deaef"
  },
  {
   "cell_type": "code",
   "execution_count": 17,
   "outputs": [
    {
     "data": {
      "text/plain": "[Model(name='models/chat-bison-001', base_model_id='', version='001', display_name='Chat Bison', description='Chat-optimized generative language model.', input_token_limit=4096, output_token_limit=1024, supported_generation_methods=['generateMessage', 'countMessageTokens'], temperature=0.25, top_p=0.95, top_k=40),\n Model(name='models/text-bison-001', base_model_id='', version='001', display_name='Text Bison', description='Model targeted for text generation.', input_token_limit=8196, output_token_limit=1024, supported_generation_methods=['generateText', 'countTextTokens'], temperature=0.7, top_p=0.95, top_k=40),\n Model(name='models/embedding-gecko-001', base_model_id='', version='001', display_name='Embedding Gecko', description='Obtain a distributed representation of a text.', input_token_limit=1024, output_token_limit=1, supported_generation_methods=['embedText'], temperature=None, top_p=None, top_k=None)]"
     },
     "execution_count": 17,
     "metadata": {},
     "output_type": "execute_result"
    }
   ],
   "source": [
    "# list models \n",
    "list(palm.list_models())"
   ],
   "metadata": {
    "collapsed": false,
    "ExecuteTime": {
     "end_time": "2023-09-15T00:39:53.392681359Z",
     "start_time": "2023-09-15T00:39:53.254351439Z"
    }
   },
   "id": "13a45b8106464008"
  },
  {
   "cell_type": "code",
   "execution_count": 21,
   "outputs": [],
   "source": [
    "# We'll stick with the text model to start with \n",
    "palm_model = palm.get_model(\"models/text-bison-001\")\n"
   ],
   "metadata": {
    "collapsed": false,
    "ExecuteTime": {
     "end_time": "2023-09-15T00:40:43.232243933Z",
     "start_time": "2023-09-15T00:40:43.122667555Z"
    }
   },
   "id": "773c80eba434acd6"
  },
  {
   "cell_type": "code",
   "execution_count": 32,
   "outputs": [],
   "source": [
    "# create a dataframe that we'll append each dict record to\n",
    "palm_df = pd.DataFrame(columns=[\"question\", \"answer\", \"model_response\", \"correct?\"])\n",
    "\n",
    "dict_record = {}\n",
    "\n",
    "for body_question_group in samples:\n",
    "\n",
    "    body = body_question_group[\"body\"]\n",
    "\n",
    "    for qa_pair in body_question_group[\"questions\"]:\n",
    "        question = qa_pair[\"question\"]\n",
    "        answer = qa_pair[\"answer\"]\n",
    "\n",
    "        # form the prompt contents\n",
    "        prompt = body + \"\\n\" + question + \"\\n\\n\\n\"\n",
    "\n",
    "        response = palm.generate_text(prompt=prompt)\n",
    "\n",
    "        boolean_check = evaluate_answers(prompt, answer, response.result)\n",
    "\n",
    "        # Update the record dict with each result\n",
    "        dict_record.update({\n",
    "            \"question\": question,\n",
    "            \"answer\": answer,\n",
    "            \"model_response\": response.result,\n",
    "            \"correct?\": boolean_check\n",
    "        })\n",
    "\n",
    "        # concat the record dict with the dataframe\n",
    "        palm_df = pd.concat([palm_df, pd.DataFrame.from_dict(dict_record, orient=\"index\").T])\n",
    "        "
   ],
   "metadata": {
    "collapsed": false,
    "ExecuteTime": {
     "end_time": "2023-09-15T00:46:11.879942309Z",
     "start_time": "2023-09-15T00:46:07.390491095Z"
    }
   },
   "id": "d000fce37af9e5e5"
  },
  {
   "cell_type": "code",
   "execution_count": 33,
   "outputs": [
    {
     "data": {
      "text/plain": "                                            question  \\\n0  How many manufacturers collaborated on this pr...   \n0  How many corporations collaborated on this pro...   \n0        How many labels cooperated on this project?   \n0   How many countries collaborated on this project?   \n0          How many different items do they produce?   \n0  What is the target school grade range for the ...   \n0  What is the target age range for the children ...   \n0  Which companies produce the Tesla coils in que...   \n\n                        answer               model_response correct?  \n0                            3                            3     True  \n0                            3                            3     True  \n0                            3                            3     True  \n0                            2                            2     True  \n0                            4                            4     True  \n0                         7-12                      7 to 12     True  \n0                        12-18                      7 to 18     True  \n0  Tesla, Volkswagen and Bosch  Tesla, Volkswagen and Bosch     True  ",
      "text/html": "<div>\n<style scoped>\n    .dataframe tbody tr th:only-of-type {\n        vertical-align: middle;\n    }\n\n    .dataframe tbody tr th {\n        vertical-align: top;\n    }\n\n    .dataframe thead th {\n        text-align: right;\n    }\n</style>\n<table border=\"1\" class=\"dataframe\">\n  <thead>\n    <tr style=\"text-align: right;\">\n      <th></th>\n      <th>question</th>\n      <th>answer</th>\n      <th>model_response</th>\n      <th>correct?</th>\n    </tr>\n  </thead>\n  <tbody>\n    <tr>\n      <th>0</th>\n      <td>How many manufacturers collaborated on this pr...</td>\n      <td>3</td>\n      <td>3</td>\n      <td>True</td>\n    </tr>\n    <tr>\n      <th>0</th>\n      <td>How many corporations collaborated on this pro...</td>\n      <td>3</td>\n      <td>3</td>\n      <td>True</td>\n    </tr>\n    <tr>\n      <th>0</th>\n      <td>How many labels cooperated on this project?</td>\n      <td>3</td>\n      <td>3</td>\n      <td>True</td>\n    </tr>\n    <tr>\n      <th>0</th>\n      <td>How many countries collaborated on this project?</td>\n      <td>2</td>\n      <td>2</td>\n      <td>True</td>\n    </tr>\n    <tr>\n      <th>0</th>\n      <td>How many different items do they produce?</td>\n      <td>4</td>\n      <td>4</td>\n      <td>True</td>\n    </tr>\n    <tr>\n      <th>0</th>\n      <td>What is the target school grade range for the ...</td>\n      <td>7-12</td>\n      <td>7 to 12</td>\n      <td>True</td>\n    </tr>\n    <tr>\n      <th>0</th>\n      <td>What is the target age range for the children ...</td>\n      <td>12-18</td>\n      <td>7 to 18</td>\n      <td>True</td>\n    </tr>\n    <tr>\n      <th>0</th>\n      <td>Which companies produce the Tesla coils in que...</td>\n      <td>Tesla, Volkswagen and Bosch</td>\n      <td>Tesla, Volkswagen and Bosch</td>\n      <td>True</td>\n    </tr>\n  </tbody>\n</table>\n</div>"
     },
     "execution_count": 33,
     "metadata": {},
     "output_type": "execute_result"
    }
   ],
   "source": [
    "palm_df"
   ],
   "metadata": {
    "collapsed": false,
    "ExecuteTime": {
     "end_time": "2023-09-15T00:46:13.039879341Z",
     "start_time": "2023-09-15T00:46:12.915471032Z"
    }
   },
   "id": "af04862b1cf81495"
  },
  {
   "cell_type": "code",
   "execution_count": null,
   "outputs": [],
   "source": [],
   "metadata": {
    "collapsed": false,
    "ExecuteTime": {
     "start_time": "2023-09-15T00:40:13.306058461Z"
    }
   },
   "id": "1ca7f3bf01394019"
  },
  {
   "cell_type": "code",
   "execution_count": null,
   "outputs": [],
   "source": [],
   "metadata": {
    "collapsed": false,
    "ExecuteTime": {
     "start_time": "2023-09-15T00:40:13.315948013Z"
    }
   },
   "id": "e1ad4dbfec79776e"
  },
  {
   "cell_type": "code",
   "execution_count": null,
   "outputs": [],
   "source": [],
   "metadata": {
    "collapsed": false,
    "ExecuteTime": {
     "start_time": "2023-09-15T00:40:13.367102721Z"
    }
   },
   "id": "719ed00616626f48"
  },
  {
   "cell_type": "code",
   "execution_count": null,
   "outputs": [],
   "source": [],
   "metadata": {
    "collapsed": false,
    "ExecuteTime": {
     "start_time": "2023-09-15T00:40:13.367617192Z"
    }
   },
   "id": "d6f4bcb71418886"
  },
  {
   "cell_type": "markdown",
   "source": [
    "### iii) Claude "
   ],
   "metadata": {
    "collapsed": false
   },
   "id": "3ef376d6432e0857"
  },
  {
   "cell_type": "code",
   "execution_count": 40,
   "outputs": [
    {
     "ename": "ImportError",
     "evalue": "cannot import name 'Anthropic' from 'anthropic' (/home/patrick/Developer/math_problems/math_venv/lib/python3.10/site-packages/anthropic/__init__.py)",
     "output_type": "error",
     "traceback": [
      "\u001B[0;31m---------------------------------------------------------------------------\u001B[0m",
      "\u001B[0;31mImportError\u001B[0m                               Traceback (most recent call last)",
      "Cell \u001B[0;32mIn[40], line 1\u001B[0m\n\u001B[0;32m----> 1\u001B[0m \u001B[38;5;28;01mfrom\u001B[39;00m \u001B[38;5;21;01manthropic\u001B[39;00m \u001B[38;5;28;01mimport\u001B[39;00m Anthropic, HUMAN_PROMPT, AI_PROMPT\n",
      "\u001B[0;31mImportError\u001B[0m: cannot import name 'Anthropic' from 'anthropic' (/home/patrick/Developer/math_problems/math_venv/lib/python3.10/site-packages/anthropic/__init__.py)"
     ]
    }
   ],
   "source": [
    "from anthropic import Anthropic, HUMAN_PROMPT, AI_PROMPT"
   ],
   "metadata": {
    "collapsed": false,
    "ExecuteTime": {
     "end_time": "2023-09-15T14:16:49.213274053Z",
     "start_time": "2023-09-15T14:16:49.090864346Z"
    }
   },
   "id": "404bc90afbb8f50a"
  },
  {
   "cell_type": "code",
   "execution_count": null,
   "outputs": [],
   "source": [],
   "metadata": {
    "collapsed": false,
    "ExecuteTime": {
     "start_time": "2023-09-15T00:40:13.368281257Z"
    }
   },
   "id": "d19f38605e0593b4"
  },
  {
   "cell_type": "code",
   "execution_count": null,
   "outputs": [],
   "source": [],
   "metadata": {
    "collapsed": false,
    "ExecuteTime": {
     "start_time": "2023-09-15T00:40:13.368553410Z"
    }
   },
   "id": "b3ca050a17fad9e9"
  },
  {
   "cell_type": "code",
   "execution_count": null,
   "outputs": [],
   "source": [],
   "metadata": {
    "collapsed": false,
    "ExecuteTime": {
     "start_time": "2023-09-15T00:40:13.368840263Z"
    }
   },
   "id": "c69db1db2d90f542"
  },
  {
   "cell_type": "code",
   "execution_count": null,
   "outputs": [],
   "source": [],
   "metadata": {
    "collapsed": false
   },
   "id": "c1a18c82ba8ab1db"
  }
 ],
 "metadata": {
  "kernelspec": {
   "name": "math_venv",
   "language": "python",
   "display_name": "math_venv"
  },
  "language_info": {
   "codemirror_mode": {
    "name": "ipython",
    "version": 3
   },
   "file_extension": ".py",
   "mimetype": "text/x-python",
   "name": "python",
   "nbconvert_exporter": "python",
   "pygments_lexer": "ipython3",
   "version": "3.10.12"
  }
 },
 "nbformat": 4,
 "nbformat_minor": 5
}
