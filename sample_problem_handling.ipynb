{
 "cells": [
  {
   "cell_type": "code",
   "execution_count": 1,
   "id": "e720d7eb-9d49-481f-b026-7af93c0a4bf9",
   "metadata": {
    "ExecuteTime": {
     "end_time": "2023-09-15T14:25:49.384818607Z",
     "start_time": "2023-09-15T14:25:49.271285402Z"
    }
   },
   "outputs": [
    {
     "data": {
      "text/plain": "'3.10.12'"
     },
     "execution_count": 1,
     "metadata": {},
     "output_type": "execute_result"
    }
   ],
   "source": [
    "from platform import python_version\n",
    "\n",
    "python_version()"
   ]
  },
  {
   "cell_type": "code",
   "execution_count": 1,
   "outputs": [],
   "source": [],
   "metadata": {
    "collapsed": false,
    "ExecuteTime": {
     "end_time": "2023-09-15T14:25:50.393204521Z",
     "start_time": "2023-09-15T14:25:50.361754796Z"
    }
   },
   "id": "ddcd9bb81768ba12"
  },
  {
   "cell_type": "code",
   "execution_count": 8,
   "outputs": [],
   "source": [
    "import json \n",
    "import spacy"
   ],
   "metadata": {
    "collapsed": false,
    "ExecuteTime": {
     "end_time": "2023-09-15T14:31:06.587694138Z",
     "start_time": "2023-09-15T14:31:05.623825917Z"
    }
   },
   "id": "911023ef3d2217af"
  },
  {
   "cell_type": "code",
   "execution_count": 3,
   "outputs": [],
   "source": [
    "import pandas as pd "
   ],
   "metadata": {
    "collapsed": false,
    "ExecuteTime": {
     "end_time": "2023-09-15T14:25:52.120781056Z",
     "start_time": "2023-09-15T14:25:50.962265070Z"
    }
   },
   "id": "78a749fb64c769a9"
  },
  {
   "cell_type": "code",
   "execution_count": 4,
   "outputs": [],
   "source": [
    "from typing import List \n",
    "\n",
    "from prompt_lib.backends import openai_api"
   ],
   "metadata": {
    "collapsed": false,
    "ExecuteTime": {
     "end_time": "2023-09-15T14:25:52.527519130Z",
     "start_time": "2023-09-15T14:25:52.131590868Z"
    }
   },
   "id": "ac979b911244e9ce"
  },
  {
   "cell_type": "code",
   "execution_count": 5,
   "outputs": [],
   "source": [
    "import openai\n",
    "\n",
    "with open(\"path/to/key.txt\", \"r\") as f:\n",
    "    openai_key = f.readline()\n",
    "    \n",
    "assert openai_key is not None\n",
    "\n",
    "openai.api_key = openai_key.strip()"
   ],
   "metadata": {
    "collapsed": false,
    "ExecuteTime": {
     "end_time": "2023-09-15T14:26:40.935888810Z",
     "start_time": "2023-09-15T14:26:40.750735427Z"
    }
   },
   "id": "100255a29692b0fa"
  },
  {
   "cell_type": "code",
   "execution_count": 5,
   "outputs": [],
   "source": [],
   "metadata": {
    "collapsed": false,
    "ExecuteTime": {
     "end_time": "2023-09-15T14:27:31.506760027Z",
     "start_time": "2023-09-15T14:27:31.294236816Z"
    }
   },
   "id": "97d6dfd1a03c0f8e"
  },
  {
   "cell_type": "code",
   "execution_count": 5,
   "outputs": [],
   "source": [],
   "metadata": {
    "collapsed": false,
    "ExecuteTime": {
     "end_time": "2023-09-15T14:27:31.770437213Z",
     "start_time": "2023-09-15T14:27:31.574205475Z"
    }
   },
   "id": "8f11cc55ab326ff6"
  },
  {
   "cell_type": "markdown",
   "source": [
    "## Get data "
   ],
   "metadata": {
    "collapsed": false
   },
   "id": "158b4e587bf306b9"
  },
  {
   "cell_type": "code",
   "execution_count": 6,
   "outputs": [
    {
     "data": {
      "text/plain": "{'question': 'How many corporations collaborated on this project?',\n 'answer': '3',\n 'acceptable_answers': ['three', '3.0', 'three corporations']}"
     },
     "execution_count": 6,
     "metadata": {},
     "output_type": "execute_result"
    }
   ],
   "source": [
    "with open(\"complex/samples.json\", \"r\") as f:\n",
    "    sample_problems = json.load(f)\n",
    "    \n",
    "sample_problems[0][\"questions\"][1]"
   ],
   "metadata": {
    "collapsed": false,
    "ExecuteTime": {
     "end_time": "2023-09-15T14:28:27.113865023Z",
     "start_time": "2023-09-15T14:28:27.059051731Z"
    }
   },
   "id": "8437a8b00036b18d"
  },
  {
   "cell_type": "code",
   "execution_count": 6,
   "outputs": [],
   "source": [],
   "metadata": {
    "collapsed": false,
    "ExecuteTime": {
     "end_time": "2023-09-15T14:28:36.848538907Z",
     "start_time": "2023-09-15T14:28:36.546302353Z"
    }
   },
   "id": "9c2315e8cd3375b0"
  },
  {
   "cell_type": "code",
   "execution_count": null,
   "outputs": [],
   "source": [],
   "metadata": {
    "collapsed": false
   },
   "id": "660fc2618b12d05d"
  },
  {
   "cell_type": "markdown",
   "source": [
    "## Helper functions for evaluation"
   ],
   "metadata": {
    "collapsed": false
   },
   "id": "f785173cec96752a"
  },
  {
   "cell_type": "code",
   "execution_count": 15,
   "outputs": [],
   "source": [
    "\"\"\"\n",
    "    To attempt to compare numerical answers\n",
    "\"\"\"\n",
    "def compare_numericals(solution, model_response, tolerance: float=1e-3):\n",
    "    \n",
    "    if model_response is None or solution is None:\n",
    "        raise ValueError(\"Nothing to compare!\")\n",
    "    \n",
    "    # Check if they're numbers \n",
    "    try:\n",
    "        res = float(model_response.strip())\n",
    "        sol = float(solution.strip())\n",
    "        \n",
    "        return abs(res - sol) <= tolerance\n",
    "    \n",
    "    except Exception:\n",
    "        return False\n"
   ],
   "metadata": {
    "collapsed": false,
    "ExecuteTime": {
     "end_time": "2023-09-15T14:46:19.120047992Z",
     "start_time": "2023-09-15T14:46:19.033522040Z"
    }
   },
   "id": "976e424aebbbb91f"
  },
  {
   "cell_type": "code",
   "execution_count": 9,
   "outputs": [],
   "source": [],
   "metadata": {
    "collapsed": false,
    "ExecuteTime": {
     "end_time": "2023-09-15T14:31:38.151292717Z",
     "start_time": "2023-09-15T14:31:38.031543339Z"
    }
   },
   "id": "d5941111682ca58"
  },
  {
   "cell_type": "code",
   "execution_count": 11,
   "outputs": [],
   "source": [
    "nlp = spacy.load(\"en_core_web_sm\")\n",
    "\"\"\"\n",
    "Tokenize and compare string tokens \n",
    "\"\"\"\n",
    "def compare_tokens(solution: str, response: str) -> bool:\n",
    "    sol_doc = nlp(solution)\n",
    "    sol_tokens = [t.text.strip().lower() for t in sol_doc]  # todo: consider using lemma_\n",
    "    \n",
    "    res_doc = nlp(response)\n",
    "    res_tokens = [t.text.strip().lower() for t in res_doc]  # todo: same here, consider using lemma_\n",
    "    \n",
    "    # comparisons\n",
    "    overlap = [t for t in sol_tokens if t in res_tokens]\n",
    "    \n",
    "    return set(overlap) == set(sol_tokens)\n",
    "\n"
   ],
   "metadata": {
    "collapsed": false,
    "ExecuteTime": {
     "end_time": "2023-09-15T14:35:53.576400030Z",
     "start_time": "2023-09-15T14:35:52.420541768Z"
    }
   },
   "id": "ad2a443d47882e46"
  },
  {
   "cell_type": "code",
   "execution_count": 12,
   "outputs": [],
   "source": [
    "# Some constants\n",
    "MAX_TOKENS = 300\n",
    "ENGINE = \"text-davinci-003\"\n",
    "NUM_COMPLETIONS = 1"
   ],
   "metadata": {
    "collapsed": false,
    "ExecuteTime": {
     "end_time": "2023-09-15T14:41:57.020570028Z",
     "start_time": "2023-09-15T14:41:56.852466676Z"
    }
   },
   "id": "2134330a7850435f"
  },
  {
   "cell_type": "code",
   "execution_count": null,
   "outputs": [],
   "source": [],
   "metadata": {
    "collapsed": false
   },
   "id": "73261c6b5d456a81"
  },
  {
   "cell_type": "code",
   "execution_count": 13,
   "outputs": [],
   "source": [
    "\"\"\"\n",
    "   This function will craft a prompt to ChatGPT, asking it to compare \n",
    "   the two answers given to a question and check if they both answer \n",
    "   the question correctly or no. Obviously one does, because it's the \n",
    "   correct answer from the dataset. \n",
    "\"\"\"\n",
    "def chatgpt_verifier(question: str, solution: str, response: str) -> bool:\n",
    "    command = f\"In the context of this question, do both following answers correctly answer the question? Respond with 'yes' or 'no'.\\n\\nQuestion: {question}\\n\\nAnswer 1: {solution}\\n\\nAnswer 2: {response}\"\n",
    "    \n",
    "    verification_response = openai_api.OpenaiAPIWrapper.call(\n",
    "        prompt=command, \n",
    "        max_tokens=MAX_TOKENS,\n",
    "        engine=\"gpt-3.5-turbo-0613\",  # default to this version for reproducibility\n",
    "        stop_token=\"\\n\\n\\n\",\n",
    "        temperature=0.0,\n",
    "        num_completions=NUM_COMPLETIONS,\n",
    "    )\n",
    "    \n",
    "    first_resp = openai_api.OpenaiAPIWrapper.get_first_response(verification_response)\n",
    "    \n",
    "    return \"yes\" in first_resp.strip().lower()\n"
   ],
   "metadata": {
    "collapsed": false,
    "ExecuteTime": {
     "end_time": "2023-09-15T14:42:57.252283693Z",
     "start_time": "2023-09-15T14:42:56.972406978Z"
    }
   },
   "id": "c2a1db879f011f3f"
  },
  {
   "cell_type": "code",
   "execution_count": 14,
   "outputs": [],
   "source": [
    "# todo: at some point, we'll probably ask each model to verify the result and \n",
    "# take a majority vote"
   ],
   "metadata": {
    "collapsed": false,
    "ExecuteTime": {
     "end_time": "2023-09-15T14:43:36.058285150Z",
     "start_time": "2023-09-15T14:43:35.666475727Z"
    }
   },
   "id": "ab5c6456913d4152"
  },
  {
   "cell_type": "code",
   "execution_count": 14,
   "outputs": [],
   "source": [],
   "metadata": {
    "collapsed": false,
    "ExecuteTime": {
     "end_time": "2023-09-15T14:43:39.505015179Z",
     "start_time": "2023-09-15T14:43:39.220869538Z"
    }
   },
   "id": "eb4fbe669f43320e"
  },
  {
   "cell_type": "code",
   "execution_count": 17,
   "outputs": [],
   "source": [
    "# This function receives a model response and does comparisons with the ground truth\n",
    "def evaluate_response(\n",
    "        full_prompt: str,\n",
    "        model_response: str=None,\n",
    "        ground_truth: str=None,\n",
    "        acceptable_answers: List[str]=None\n",
    "):\n",
    "    \n",
    "    if model_response is None or ground_truth is None:\n",
    "        raise ValueError(\"Nothing to compare\")\n",
    "    \n",
    "    # Answers line up exactly \n",
    "    if ground_truth.strip().lower() == model_response.strip().lower():\n",
    "        return True\n",
    "    \n",
    "    elif compare_numericals(ground_truth, model_response) or compare_tokens(ground_truth, model_response):\n",
    "        return True\n",
    "    \n",
    "    elif chatgpt_verifier(full_prompt, ground_truth, model_response):\n",
    "        return True\n",
    "    \n",
    "    else:\n",
    "        # Check other acceptable answers\n",
    "        if acceptable_answers is not None:\n",
    "            for ans in acceptable_answers:\n",
    "                if compare_tokens(ans, model_response) or\\\n",
    "                        compare_numericals(ans, model_response) or \\\n",
    "                        chatgpt_verifier(full_prompt, ans, model_response):\n",
    "                    return True\n",
    "    \n",
    "    return False\n",
    "\n",
    "    "
   ],
   "metadata": {
    "collapsed": false,
    "ExecuteTime": {
     "end_time": "2023-09-15T14:58:29.864450785Z",
     "start_time": "2023-09-15T14:58:29.632290746Z"
    }
   },
   "id": "782bfc5fa4ab6674"
  },
  {
   "cell_type": "code",
   "execution_count": 16,
   "outputs": [],
   "source": [],
   "metadata": {
    "collapsed": false,
    "ExecuteTime": {
     "end_time": "2023-09-15T14:50:26.171359645Z",
     "start_time": "2023-09-15T14:50:25.949940314Z"
    }
   },
   "id": "3027d60946e861c9"
  },
  {
   "cell_type": "code",
   "execution_count": null,
   "outputs": [],
   "source": [],
   "metadata": {
    "collapsed": false
   },
   "id": "b80458a76e991d80"
  },
  {
   "cell_type": "markdown",
   "source": [
    "### OpenAI models"
   ],
   "metadata": {
    "collapsed": false
   },
   "id": "1460b48ef90b79dc"
  },
  {
   "cell_type": "code",
   "execution_count": 22,
   "outputs": [],
   "source": [
    "chatgpt_df = pd.DataFrame(columns=['question', 'answer', 'model_response', 'correct?'])\n",
    "\n",
    "dict_record = {}\n",
    "\n",
    "for body_qa_group in sample_problems:\n",
    "    \n",
    "    body = body_qa_group['body']\n",
    "    \n",
    "    for qa_pair in body_qa_group['questions']:\n",
    "        question = qa_pair['question']\n",
    "        answer = qa_pair['answer']\n",
    "        \n",
    "        # Prompt contents \n",
    "        prompt = body + '\\n' + question + '\\n\\n'\n",
    "        \n",
    "        response = openai_api.OpenaiAPIWrapper.call(\n",
    "            prompt=prompt,\n",
    "            max_tokens=MAX_TOKENS,\n",
    "            engine=ENGINE,\n",
    "            stop_token='\\n\\n\\n',\n",
    "            temperature=0.0,\n",
    "            num_completions=NUM_COMPLETIONS\n",
    "        )\n",
    "        \n",
    "        first_response = openai_api.OpenaiAPIWrapper.get_first_response(response)\n",
    "        \n",
    "        bool_check = evaluate_response(\n",
    "            prompt,\n",
    "            first_response,\n",
    "            answer,\n",
    "            # qa_pair[\"acceptable_answers\"]\n",
    "        )\n",
    "        \n",
    "        # Record each result\n",
    "        dict_record.update({\n",
    "            'question': question,\n",
    "            'answer': answer,\n",
    "            'model_response': first_response,\n",
    "            'correct?': bool_check\n",
    "        })\n",
    "        \n",
    "        chatgpt_df = pd.concat([\n",
    "            chatgpt_df,\n",
    "            pd.DataFrame.from_dict(dict_record, orient='index').T\n",
    "        ])\n",
    "        \n"
   ],
   "metadata": {
    "collapsed": false,
    "ExecuteTime": {
     "end_time": "2023-09-15T15:12:40.305206013Z",
     "start_time": "2023-09-15T15:12:28.247772490Z"
    }
   },
   "id": "e9deb5ad87e74a4"
  },
  {
   "cell_type": "code",
   "execution_count": 23,
   "outputs": [
    {
     "data": {
      "text/plain": "{'question': 'Which companies produce the Tesla coils in question?',\n 'answer': 'Tesla, Volkswagen and Bosch',\n 'model_response': '\\nTesla and Bosch are the companies that produce the Tesla coils in question.',\n 'correct?': True}"
     },
     "execution_count": 23,
     "metadata": {},
     "output_type": "execute_result"
    }
   ],
   "source": [
    "dict_record"
   ],
   "metadata": {
    "collapsed": false,
    "ExecuteTime": {
     "end_time": "2023-09-15T15:12:43.072103623Z",
     "start_time": "2023-09-15T15:12:42.882004274Z"
    }
   },
   "id": "55f150be2d05ce06"
  },
  {
   "cell_type": "code",
   "execution_count": null,
   "outputs": [],
   "source": [],
   "metadata": {
    "collapsed": false,
    "ExecuteTime": {
     "end_time": "2023-09-15T15:10:23.076615670Z",
     "start_time": "2023-09-15T15:10:23.047411074Z"
    }
   },
   "id": "1579ffad49f28bc4"
  },
  {
   "cell_type": "code",
   "execution_count": 21,
   "outputs": [
    {
     "data": {
      "text/plain": "                                            question  \\\n0  How many manufacturers collaborated on this pr...   \n0  How many corporations collaborated on this pro...   \n0        How many labels cooperated on this project?   \n0   How many countries collaborated on this project?   \n0          How many different items do they produce?   \n0  What is the target school grade range for the ...   \n0  What is the target age range for the children ...   \n0  Which companies produce the Tesla coils in que...   \n\n                        answer  \\\n0                            3   \n0                            3   \n0                            3   \n0                            2   \n0                            4   \n0                         7-12   \n0                        12-18   \n0  Tesla, Volkswagen and Bosch   \n\n                                      model_response correct?  \n0  \\nThree manufacturers collaborated on this pro...     True  \n0  \\nThree corporations collaborated on this proj...     True  \n0  Three labels cooperated on this project: Tesla...     True  \n0  \\nThree countries collaborated on this project...     True  \n0  \\nFour different items: Tesla coils, luminisce...     True  \n0  The target school grade range for the children...     True  \n0  The target age range for the children visiting...     True  \n0  \\nTesla and Bosch are the companies that produ...     True  ",
      "text/html": "<div>\n<style scoped>\n    .dataframe tbody tr th:only-of-type {\n        vertical-align: middle;\n    }\n\n    .dataframe tbody tr th {\n        vertical-align: top;\n    }\n\n    .dataframe thead th {\n        text-align: right;\n    }\n</style>\n<table border=\"1\" class=\"dataframe\">\n  <thead>\n    <tr style=\"text-align: right;\">\n      <th></th>\n      <th>question</th>\n      <th>answer</th>\n      <th>model_response</th>\n      <th>correct?</th>\n    </tr>\n  </thead>\n  <tbody>\n    <tr>\n      <th>0</th>\n      <td>How many manufacturers collaborated on this pr...</td>\n      <td>3</td>\n      <td>\\nThree manufacturers collaborated on this pro...</td>\n      <td>True</td>\n    </tr>\n    <tr>\n      <th>0</th>\n      <td>How many corporations collaborated on this pro...</td>\n      <td>3</td>\n      <td>\\nThree corporations collaborated on this proj...</td>\n      <td>True</td>\n    </tr>\n    <tr>\n      <th>0</th>\n      <td>How many labels cooperated on this project?</td>\n      <td>3</td>\n      <td>Three labels cooperated on this project: Tesla...</td>\n      <td>True</td>\n    </tr>\n    <tr>\n      <th>0</th>\n      <td>How many countries collaborated on this project?</td>\n      <td>2</td>\n      <td>\\nThree countries collaborated on this project...</td>\n      <td>True</td>\n    </tr>\n    <tr>\n      <th>0</th>\n      <td>How many different items do they produce?</td>\n      <td>4</td>\n      <td>\\nFour different items: Tesla coils, luminisce...</td>\n      <td>True</td>\n    </tr>\n    <tr>\n      <th>0</th>\n      <td>What is the target school grade range for the ...</td>\n      <td>7-12</td>\n      <td>The target school grade range for the children...</td>\n      <td>True</td>\n    </tr>\n    <tr>\n      <th>0</th>\n      <td>What is the target age range for the children ...</td>\n      <td>12-18</td>\n      <td>The target age range for the children visiting...</td>\n      <td>True</td>\n    </tr>\n    <tr>\n      <th>0</th>\n      <td>Which companies produce the Tesla coils in que...</td>\n      <td>Tesla, Volkswagen and Bosch</td>\n      <td>\\nTesla and Bosch are the companies that produ...</td>\n      <td>True</td>\n    </tr>\n  </tbody>\n</table>\n</div>"
     },
     "execution_count": 21,
     "metadata": {},
     "output_type": "execute_result"
    }
   ],
   "source": [
    "chatgpt_df"
   ],
   "metadata": {
    "collapsed": false,
    "ExecuteTime": {
     "end_time": "2023-09-15T15:11:30.251973818Z",
     "start_time": "2023-09-15T15:11:30.118992785Z"
    }
   },
   "id": "85645cbfcd01354a"
  },
  {
   "cell_type": "code",
   "execution_count": null,
   "outputs": [],
   "source": [],
   "metadata": {
    "collapsed": false,
    "ExecuteTime": {
     "start_time": "2023-09-15T15:10:23.047849036Z"
    }
   },
   "id": "592fd06cb691dea9"
  },
  {
   "cell_type": "code",
   "execution_count": null,
   "outputs": [],
   "source": [],
   "metadata": {
    "collapsed": false,
    "ExecuteTime": {
     "start_time": "2023-09-15T15:10:23.048145509Z"
    }
   },
   "id": "4236db51fd0d9352"
  },
  {
   "cell_type": "markdown",
   "source": [
    "## ii) PaLM"
   ],
   "metadata": {
    "collapsed": false
   },
   "id": "f5d593c437896d7f"
  },
  {
   "cell_type": "code",
   "execution_count": null,
   "outputs": [],
   "source": [
    "with open('/path/to/key.txt', 'r') as f:\n",
    "    makersuite_key = f.readline().strip()\n",
    "    \n",
    "assert makersuite_key is not None\n"
   ],
   "metadata": {
    "collapsed": false,
    "ExecuteTime": {
     "start_time": "2023-09-15T15:10:23.048528288Z"
    }
   },
   "id": "9e1635e5cb428063"
  },
  {
   "cell_type": "code",
   "execution_count": null,
   "outputs": [],
   "source": [
    "import google.generativeai as palm\n",
    "\n",
    "palm.configure(api_key=makersuite_key)"
   ],
   "metadata": {
    "collapsed": false,
    "ExecuteTime": {
     "start_time": "2023-09-15T15:10:23.048743011Z"
    }
   },
   "id": "2593b9b727d1aaa2"
  },
  {
   "cell_type": "code",
   "execution_count": null,
   "outputs": [],
   "source": [
    "list(palm.list_models())"
   ],
   "metadata": {
    "collapsed": false
   },
   "id": "b251672204d8e315"
  }
 ],
 "metadata": {
  "kernelspec": {
   "name": "math_venv",
   "language": "python",
   "display_name": "math_venv"
  },
  "language_info": {
   "name": ""
  }
 },
 "nbformat": 4,
 "nbformat_minor": 5
}
